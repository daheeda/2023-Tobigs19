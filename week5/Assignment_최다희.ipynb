{
 "cells": [
  {
   "cell_type": "markdown",
   "id": "9ad88f3e",
   "metadata": {},
   "source": [
    "# Multiclass SVM 구현"
   ]
  },
  {
   "cell_type": "code",
   "execution_count": 27,
   "id": "1ee53277",
   "metadata": {},
   "outputs": [
    {
     "name": "stdout",
     "output_type": "stream",
     "text": [
      "0         setosa\n",
      "1         setosa\n",
      "2         setosa\n",
      "3         setosa\n",
      "4         setosa\n",
      "         ...    \n",
      "145    virginica\n",
      "146    virginica\n",
      "147    virginica\n",
      "148    virginica\n",
      "149    virginica\n",
      "Name: species, Length: 150, dtype: object\n"
     ]
    }
   ],
   "source": [
    "import numpy as np\n",
    "import pandas as pd\n",
    "import matplotlib.pyplot as plt\n",
    "import seaborn as sns\n",
    "from sklearn.model_selection import train_test_split\n",
    "from sklearn.pipeline import Pipeline\n",
    "from sklearn.preprocessing import StandardScaler\n",
    "from sklearn.metrics import accuracy_score\n",
    "from sklearn.metrics.pairwise import *\n",
    "from sklearn.datasets import load_iris\n",
    "import numpy as np\n",
    "import cvxopt as cv\n",
    "#IRIS 데이터 로드\n",
    "iris =  sns.load_dataset('iris') \n",
    "X= iris.iloc[:,:4] #학습할데이터\n",
    "y = iris.iloc[:,-1] #타겟\n",
    "print(y)"
   ]
  },
  {
   "cell_type": "code",
   "execution_count": 28,
   "id": "57c67bc8",
   "metadata": {},
   "outputs": [],
   "source": [
    "X_train, X_test, y_train, y_test = train_test_split(X, y, test_size=0.2, random_state=48)"
   ]
  },
  {
   "cell_type": "code",
   "execution_count": 29,
   "id": "88a4203d",
   "metadata": {},
   "outputs": [],
   "source": [
    "def standardization(train, test):\n",
    "    scaler = StandardScaler()\n",
    "    train = scaler.fit_transform(train)\n",
    "    test = scaler.transform(test)\n",
    "    return train, test\n",
    "\n",
    "X_train, X_test = standardization(X_train, X_test)"
   ]
  },
  {
   "cell_type": "code",
   "execution_count": 30,
   "id": "403590f5",
   "metadata": {},
   "outputs": [
    {
     "data": {
      "text/plain": [
       "array([[ 0.78522493,  0.32015325,  0.77221097,  1.04726529],\n",
       "       [-0.26563371, -1.29989934,  0.0982814 , -0.11996537],\n",
       "       [ 0.43493872,  0.78302542,  0.94069336,  1.43634218],\n",
       "       [-0.84944407,  0.78302542, -1.24957775, -1.28719604],\n",
       "       [-0.38239578, -1.7627715 ,  0.15444219,  0.13941922],\n",
       "       [ 0.55170079, -0.374155  ,  1.05301496,  0.7878807 ],\n",
       "       [ 0.31817664, -0.14271892,  0.65988937,  0.7878807 ],\n",
       "       [ 0.20141457, -0.374155  ,  0.43524618,  0.39880381],\n",
       "       [-1.66677857, -0.14271892, -1.36189934, -1.28719604],\n",
       "       [-0.14887164, -0.60559109,  0.21060299,  0.13941922]])"
      ]
     },
     "execution_count": 30,
     "metadata": {},
     "output_type": "execute_result"
    }
   ],
   "source": [
    "X_train[:10]"
   ]
  },
  {
   "cell_type": "code",
   "execution_count": 31,
   "id": "9861d8a6",
   "metadata": {},
   "outputs": [
    {
     "data": {
      "text/plain": [
       "array([[-0.14887164, -0.374155  ,  0.26676379,  0.13941922],\n",
       "       [ 0.31817664, -0.60559109,  0.54756778,  0.00972692],\n",
       "       [ 0.31817664, -1.06846325,  1.05301496,  0.26911151],\n",
       "       [-1.5500165 , -1.7627715 , -1.36189934, -1.15750374],\n",
       "       [ 0.0846525 ,  0.32015325,  0.60372857,  0.7878807 ],\n",
       "       [ 0.78522493, -0.14271892,  0.99685416,  0.7878807 ],\n",
       "       [-0.84944407,  1.70876975, -1.24957775, -1.15750374],\n",
       "       [ 0.20141457, -0.14271892,  0.60372857,  0.7878807 ],\n",
       "       [-0.38239578,  2.63451409, -1.30573855, -1.28719604],\n",
       "       [-0.38239578, -1.29989934,  0.15444219,  0.13941922]])"
      ]
     },
     "execution_count": 31,
     "metadata": {},
     "output_type": "execute_result"
    }
   ],
   "source": [
    "X_test[:10]"
   ]
  },
  {
   "cell_type": "code",
   "execution_count": 32,
   "id": "documentary-volume",
   "metadata": {},
   "outputs": [
    {
     "data": {
      "text/plain": [
       "{'setosa', 'versicolor', 'virginica'}"
      ]
     },
     "execution_count": 32,
     "metadata": {},
     "output_type": "execute_result"
    }
   ],
   "source": [
    "set(y_train)"
   ]
  },
  {
   "cell_type": "code",
   "execution_count": 33,
   "id": "olympic-triangle",
   "metadata": {},
   "outputs": [],
   "source": [
    "kernel_dct = {\n",
    "    \"rbf\": rbf_kernel,\n",
    "    \"linear\": linear_kernel\n",
    "}\n",
    "\n",
    "eps = 10**(-7)"
   ]
  },
  {
   "cell_type": "code",
   "execution_count": 34,
   "id": "crazy-netherlands",
   "metadata": {},
   "outputs": [],
   "source": [
    "class SVM:\n",
    "    def __init__(self, C=1.0, kernel=\"rbf\"):\n",
    "        self.C = C\n",
    "        self.kernel = kernel_dct[kernel] if kernel in kernel_dct else kernel\n",
    "        self.w = None\n",
    "        self.support_vector = None\n",
    "        self.b = None\n",
    "        \n",
    "    def fit(self, X, y):\n",
    "        X = np.array(X)\n",
    "        y = np.array(y)\n",
    "        gram_matrix = self.kernel(X)\n",
    "        assert len(X) == len(y), \"not same shape label and feature\"\n",
    "        N = len(X)\n",
    "\n",
    "        T = np.array([[y[i] * y[j] for j in range(N)] for i in range(N)])\n",
    "        P = gram_matrix * T\n",
    "        P = cv.matrix(P)\n",
    "\n",
    "        q = cv.matrix(-np.ones(N))\n",
    "        G = cv.matrix(np.r_[np.identity(N), -np.identity(N)])\n",
    "        h = cv.matrix(np.r_[self.C*np.ones(N).T, np.zeros(N).T])\n",
    "        \n",
    "        A = cv.matrix(np.array([y], dtype=\"double\"))\n",
    "        b = cv.matrix(0.0)\n",
    "\n",
    "        sol = cv.solvers.qp(P, q, G=G, h=h, A=A, b=b)\n",
    "        #print(len(list(filter(lambda x: x > eps, sol[\"x\"]))))\n",
    "        \n",
    "        index_list = list(filter(lambda x: sol[\"x\"][x] > eps, range(N)))\n",
    "        self.w = np.array(sol[\"x\"])[index_list].reshape(len(index_list)) * y[index_list]\n",
    "        #print(np.array(sol[\"x\"]).shape)\n",
    "        print(self.w)\n",
    "        self.support_vector = X[index_list]\n",
    "        # calc b\n",
    "        tmp_list = []\n",
    "        for i in index_list:\n",
    "            tmp = 0\n",
    "            for j in index_list:\n",
    "                tmp += (sol[\"x\"][j] * y[j] * gram_matrix[i][j])\n",
    "            tmp_list.append(y[i]-tmp)\n",
    "        self.b = np.mean(tmp_list)\n",
    "        \n",
    "    def predict(self, X):\n",
    "        assert self.w is not None or self.support_vector is not None or self.b is not None, \"not call fit method yet\"\n",
    "        #print(self.w.shape)\n",
    "        #print(self.kernel(X, Y=self.support_vector).shape)\n",
    "        #np.dot(self.w, self.kernel(X, Y=self.support_vector))\n",
    "        y = np.dot(np.array([self.w]), self.kernel(X, Y=self.support_vector).T) + self.b\n",
    "        y = y.reshape(len(X))\n",
    "        return np.array([1 if pred > 0 else -1 for pred in y])"
   ]
  },
  {
   "cell_type": "code",
   "execution_count": 35,
   "id": "alone-halloween",
   "metadata": {},
   "outputs": [
    {
     "name": "stdout",
     "output_type": "stream",
     "text": [
      "50\n",
      "     pcost       dcost       gap    pres   dres\n",
      " 0: -1.2202e+00 -9.3465e+01  3e+02  1e+00  4e-16\n",
      " 1:  4.5970e-01 -3.3948e+01  3e+01  3e-16  4e-16\n",
      " 2: -1.8034e+00 -6.3749e+00  5e+00  2e-16  5e-16\n",
      " 3: -2.3449e+00 -3.6235e+00  1e+00  2e-16  2e-16\n",
      " 4: -2.4895e+00 -2.9615e+00  5e-01  2e-16  2e-16\n",
      " 5: -2.5729e+00 -2.7008e+00  1e-01  2e-16  2e-16\n",
      " 6: -2.6078e+00 -2.6359e+00  3e-02  2e-16  2e-16\n",
      " 7: -2.6172e+00 -2.6185e+00  1e-03  1e-16  2e-16\n",
      " 8: -2.6177e+00 -2.6178e+00  1e-04  3e-16  2e-16\n",
      " 9: -2.6178e+00 -2.6178e+00  3e-06  1e-16  2e-16\n",
      "10: -2.6178e+00 -2.6178e+00  4e-08  2e-16  2e-16\n",
      "Optimal solution found.\n",
      "[ 7.42645602e-01  3.31661977e-02  5.05636233e-06 -1.60984646e-01\n",
      "  9.99999999e-01  9.44281876e-06 -1.86754395e-01 -9.99999999e-01\n",
      " -4.18707026e-01 -3.13518142e-02 -2.15188348e-01 -1.96562211e-01\n",
      " -1.84042304e-01  6.17764495e-01]\n",
      "[-1  1 -1  1  1  1  1  1  1  1 -1 -1 -1  1  1  1  1  1 -1 -1]\n",
      "[-1, 1, -1, 1, 1, 1, 1, 1, 1, 1, -1, -1, -1, 1, 1, 1, 1, 1, -1, -1]\n",
      "Accuray: 1.0\n",
      "1.0\n"
     ]
    }
   ],
   "source": [
    "def main():\n",
    "    np.random.seed(1)\n",
    "    iris = load_iris()\n",
    "    N_pos = len(list(filter(lambda x: x == 0, iris.target)))\n",
    "    tmp_list = np.random.choice(list(range(N_pos, len(iris.target))), N_pos, replace=False)\n",
    "\n",
    "    print(N_pos)\n",
    "    label = [1 if i < N_pos else -1 for i in range(N_pos*2)]\n",
    "\n",
    "    #print(iris.data)\n",
    "    index_list = list(range(N_pos))\n",
    "    index_list.extend(tmp_list)\n",
    "    #print(len(index_list))\n",
    "    x = iris.data[index_list]\n",
    "    x_train, x_test, y_train, y_test = train_test_split(x, label, test_size=0.2, random_state=2)\n",
    "    \n",
    "    clf = SVM()\n",
    "    clf.fit(x_train, y_train)\n",
    "    pred = clf.predict(x_test)\n",
    "    print(pred)\n",
    "    print(y_test)\n",
    "    print(\"Accuray: \" + str(accuracy_score(y_test, pred)))\n",
    "    \n",
    "    clf = SVC(gamma='auto')\n",
    "    clf.fit(x_train, y_train)\n",
    "    print(accuracy_score(y_test, clf.predict(x_test)))\n",
    "    \n",
    "if __name__ == \"__main__\":\n",
    "    main()"
   ]
  }
 ],
 "metadata": {
  "kernelspec": {
   "display_name": "Python 3",
   "language": "python",
   "name": "python3"
  },
  "language_info": {
   "codemirror_mode": {
    "name": "ipython",
    "version": 3
   },
   "file_extension": ".py",
   "mimetype": "text/x-python",
   "name": "python",
   "nbconvert_exporter": "python",
   "pygments_lexer": "ipython3",
   "version": "3.8.8"
  }
 },
 "nbformat": 4,
 "nbformat_minor": 5
}
